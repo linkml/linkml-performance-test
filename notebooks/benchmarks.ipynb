{
 "cells": [
  {
   "cell_type": "code",
   "execution_count": 4,
   "id": "492a3ffa",
   "metadata": {},
   "outputs": [],
   "source": [
    "from linkml_performance_test.model.benchconfig import BenchmarkConfig\n",
    "from linkml_performance_test.runner import BenchmarkRunner\n",
    "from linkml_runtime.dumpers import yaml_dumper, csv_dumper\n",
    "from linkml_runtime.utils.introspection import package_schemaview"
   ]
  },
  {
   "cell_type": "code",
   "execution_count": 5,
   "id": "1af5b7f7",
   "metadata": {},
   "outputs": [],
   "source": [
    "runner = BenchmarkRunner()\n",
    "runner.schemaview = package_schemaview('linkml_performance_test.model.obograph')"
   ]
  },
  {
   "cell_type": "code",
   "execution_count": 6,
   "id": "696f1bc5",
   "metadata": {},
   "outputs": [],
   "source": [
    "from pathlib import Path\n",
    "workdir = Path('tmp')\n",
    "workdir.mkdir()"
   ]
  },
  {
   "cell_type": "code",
   "execution_count": 14,
   "id": "f01f03a2",
   "metadata": {},
   "outputs": [],
   "source": [
    "config = BenchmarkConfig(entity_counts=[100, 1000, 10000, 100000, 1000000], working_directory=str(workdir))"
   ]
  },
  {
   "cell_type": "code",
   "execution_count": null,
   "id": "f3af5ada",
   "metadata": {},
   "outputs": [
    {
     "name": "stdout",
     "output_type": "stream",
     "text": [
      "graph  = [Node(id='N:1', label='node 1', type=None, meta=Meta(subsets=[], version=None, comments=[], definition=DefinitionPropertyValue(pred=None, val='my def', xrefs=[], meta=None), xrefs=[], synonyms=[], basicPropertyValues=None, deprecated=None)), Node(id='N:2', label='node 2', type=None, meta=Meta(subsets=[], version=None, comments=[], definition=DefinitionPropertyValue(pred=None, val='my def', xrefs=[], meta=None), xrefs=[], synonyms=[], basicPropertyValues=None, deprecated=None)), Node(id='N:3', label='node 3', type=None, meta=Meta(subsets=[], version=None, comments=[], definition=DefinitionPropertyValue(pred=None, val='my def', xrefs=[], meta=None), xrefs=[], synonyms=[], basicPropertyValues=None, deprecated=None)), Node(id='N:4', label='node 4', type=None, meta=Meta(subsets=[], version=None, comments=[], definition=DefinitionPropertyValue(pred=None, val='my def', xrefs=[], meta=None), xrefs=[], synonyms=[], basicPropertyValues=None, deprecated=None)), Node(id='N:5', label='node 5', type=None, meta=Meta(subsets=[], version=None, comments=[], definition=DefinitionPropertyValue(pred=None, val='my def', xrefs=[], meta=None), xrefs=[], synonyms=[], basicPropertyValues=None, deprecated=None)), Node(id='N:6', label='node 6', type=None, meta=Meta(subsets=[], version=None, comments=[], definition=DefinitionPropertyValue(pred=None, val='my def', xrefs=[], meta=None), xrefs=[], synonyms=[], basicPropertyValues=None, deprecated=None)), Node(id='N:7', label='node 7', type=None, meta=Meta(subsets=[], version=None, comments=[], definition=DefinitionPropertyValue(pred=None, val='my def', xrefs=[], meta=None), xrefs=[], synonyms=[], basicPropertyValues=None, deprecated=None)), Node(id='N:8', label='node 8', type=None, meta=Meta(subsets=[], version=None, comments=[], definition=DefinitionPropertyValue(pred=None, val='my def', xrefs=[], meta=None), xrefs=[], synonyms=[], basicPropertyValues=None, deprecated=None)), Node(id='N:9', label='node 9', type=None, meta=Meta(subsets=[], version=None, comments=[], definition=DefinitionPropertyValue(pred=None, val='my def', xrefs=[], meta=None), xrefs=[], synonyms=[], basicPropertyValues=None, deprecated=None)), Node(id='N:10', label='node 10', type=None, meta=Meta(subsets=[], version=None, comments=[], definition=DefinitionPropertyValue(pred=None, val='my def', xrefs=[], meta=None), xrefs=[], synonyms=[], basicPropertyValues=None, deprecated=None))]\n",
      "graph nodes = 99\n"
     ]
    },
    {
     "name": "stderr",
     "output_type": "stream",
     "text": [
      "/Users/cjm/repos/linkml-performance-test/src/linkml_performance_test/runner.py:96: YAMLLoadWarning: calling yaml.load() without Loader=... is deprecated, as the default Loader is unsafe. Please read https://msg.pyyaml.org/load for full details.\n",
      "  run.plain_yaml_dump_event = self.start()\n"
     ]
    },
    {
     "name": "stdout",
     "output_type": "stream",
     "text": [
      "graph  = [Node(id='N:1', label='node 1', type=None, meta=Meta(subsets=[], version=None, comments=[], definition=DefinitionPropertyValue(pred=None, val='my def', xrefs=[], meta=None), xrefs=[], synonyms=[], basicPropertyValues=None, deprecated=None)), Node(id='N:2', label='node 2', type=None, meta=Meta(subsets=[], version=None, comments=[], definition=DefinitionPropertyValue(pred=None, val='my def', xrefs=[], meta=None), xrefs=[], synonyms=[], basicPropertyValues=None, deprecated=None)), Node(id='N:3', label='node 3', type=None, meta=Meta(subsets=[], version=None, comments=[], definition=DefinitionPropertyValue(pred=None, val='my def', xrefs=[], meta=None), xrefs=[], synonyms=[], basicPropertyValues=None, deprecated=None)), Node(id='N:4', label='node 4', type=None, meta=Meta(subsets=[], version=None, comments=[], definition=DefinitionPropertyValue(pred=None, val='my def', xrefs=[], meta=None), xrefs=[], synonyms=[], basicPropertyValues=None, deprecated=None)), Node(id='N:5', label='node 5', type=None, meta=Meta(subsets=[], version=None, comments=[], definition=DefinitionPropertyValue(pred=None, val='my def', xrefs=[], meta=None), xrefs=[], synonyms=[], basicPropertyValues=None, deprecated=None)), Node(id='N:6', label='node 6', type=None, meta=Meta(subsets=[], version=None, comments=[], definition=DefinitionPropertyValue(pred=None, val='my def', xrefs=[], meta=None), xrefs=[], synonyms=[], basicPropertyValues=None, deprecated=None)), Node(id='N:7', label='node 7', type=None, meta=Meta(subsets=[], version=None, comments=[], definition=DefinitionPropertyValue(pred=None, val='my def', xrefs=[], meta=None), xrefs=[], synonyms=[], basicPropertyValues=None, deprecated=None)), Node(id='N:8', label='node 8', type=None, meta=Meta(subsets=[], version=None, comments=[], definition=DefinitionPropertyValue(pred=None, val='my def', xrefs=[], meta=None), xrefs=[], synonyms=[], basicPropertyValues=None, deprecated=None)), Node(id='N:9', label='node 9', type=None, meta=Meta(subsets=[], version=None, comments=[], definition=DefinitionPropertyValue(pred=None, val='my def', xrefs=[], meta=None), xrefs=[], synonyms=[], basicPropertyValues=None, deprecated=None)), Node(id='N:10', label='node 10', type=None, meta=Meta(subsets=[], version=None, comments=[], definition=DefinitionPropertyValue(pred=None, val='my def', xrefs=[], meta=None), xrefs=[], synonyms=[], basicPropertyValues=None, deprecated=None))]\n",
      "graph nodes = 999\n",
      "graph  = [Node(id='N:1', label='node 1', type=None, meta=Meta(subsets=[], version=None, comments=[], definition=DefinitionPropertyValue(pred=None, val='my def', xrefs=[], meta=None), xrefs=[], synonyms=[], basicPropertyValues=None, deprecated=None)), Node(id='N:2', label='node 2', type=None, meta=Meta(subsets=[], version=None, comments=[], definition=DefinitionPropertyValue(pred=None, val='my def', xrefs=[], meta=None), xrefs=[], synonyms=[], basicPropertyValues=None, deprecated=None)), Node(id='N:3', label='node 3', type=None, meta=Meta(subsets=[], version=None, comments=[], definition=DefinitionPropertyValue(pred=None, val='my def', xrefs=[], meta=None), xrefs=[], synonyms=[], basicPropertyValues=None, deprecated=None)), Node(id='N:4', label='node 4', type=None, meta=Meta(subsets=[], version=None, comments=[], definition=DefinitionPropertyValue(pred=None, val='my def', xrefs=[], meta=None), xrefs=[], synonyms=[], basicPropertyValues=None, deprecated=None)), Node(id='N:5', label='node 5', type=None, meta=Meta(subsets=[], version=None, comments=[], definition=DefinitionPropertyValue(pred=None, val='my def', xrefs=[], meta=None), xrefs=[], synonyms=[], basicPropertyValues=None, deprecated=None)), Node(id='N:6', label='node 6', type=None, meta=Meta(subsets=[], version=None, comments=[], definition=DefinitionPropertyValue(pred=None, val='my def', xrefs=[], meta=None), xrefs=[], synonyms=[], basicPropertyValues=None, deprecated=None)), Node(id='N:7', label='node 7', type=None, meta=Meta(subsets=[], version=None, comments=[], definition=DefinitionPropertyValue(pred=None, val='my def', xrefs=[], meta=None), xrefs=[], synonyms=[], basicPropertyValues=None, deprecated=None)), Node(id='N:8', label='node 8', type=None, meta=Meta(subsets=[], version=None, comments=[], definition=DefinitionPropertyValue(pred=None, val='my def', xrefs=[], meta=None), xrefs=[], synonyms=[], basicPropertyValues=None, deprecated=None)), Node(id='N:9', label='node 9', type=None, meta=Meta(subsets=[], version=None, comments=[], definition=DefinitionPropertyValue(pred=None, val='my def', xrefs=[], meta=None), xrefs=[], synonyms=[], basicPropertyValues=None, deprecated=None)), Node(id='N:10', label='node 10', type=None, meta=Meta(subsets=[], version=None, comments=[], definition=DefinitionPropertyValue(pred=None, val='my def', xrefs=[], meta=None), xrefs=[], synonyms=[], basicPropertyValues=None, deprecated=None))]\n",
      "graph nodes = 9999\n",
      "graph  = [Node(id='N:1', label='node 1', type=None, meta=Meta(subsets=[], version=None, comments=[], definition=DefinitionPropertyValue(pred=None, val='my def', xrefs=[], meta=None), xrefs=[], synonyms=[], basicPropertyValues=None, deprecated=None)), Node(id='N:2', label='node 2', type=None, meta=Meta(subsets=[], version=None, comments=[], definition=DefinitionPropertyValue(pred=None, val='my def', xrefs=[], meta=None), xrefs=[], synonyms=[], basicPropertyValues=None, deprecated=None)), Node(id='N:3', label='node 3', type=None, meta=Meta(subsets=[], version=None, comments=[], definition=DefinitionPropertyValue(pred=None, val='my def', xrefs=[], meta=None), xrefs=[], synonyms=[], basicPropertyValues=None, deprecated=None)), Node(id='N:4', label='node 4', type=None, meta=Meta(subsets=[], version=None, comments=[], definition=DefinitionPropertyValue(pred=None, val='my def', xrefs=[], meta=None), xrefs=[], synonyms=[], basicPropertyValues=None, deprecated=None)), Node(id='N:5', label='node 5', type=None, meta=Meta(subsets=[], version=None, comments=[], definition=DefinitionPropertyValue(pred=None, val='my def', xrefs=[], meta=None), xrefs=[], synonyms=[], basicPropertyValues=None, deprecated=None)), Node(id='N:6', label='node 6', type=None, meta=Meta(subsets=[], version=None, comments=[], definition=DefinitionPropertyValue(pred=None, val='my def', xrefs=[], meta=None), xrefs=[], synonyms=[], basicPropertyValues=None, deprecated=None)), Node(id='N:7', label='node 7', type=None, meta=Meta(subsets=[], version=None, comments=[], definition=DefinitionPropertyValue(pred=None, val='my def', xrefs=[], meta=None), xrefs=[], synonyms=[], basicPropertyValues=None, deprecated=None)), Node(id='N:8', label='node 8', type=None, meta=Meta(subsets=[], version=None, comments=[], definition=DefinitionPropertyValue(pred=None, val='my def', xrefs=[], meta=None), xrefs=[], synonyms=[], basicPropertyValues=None, deprecated=None)), Node(id='N:9', label='node 9', type=None, meta=Meta(subsets=[], version=None, comments=[], definition=DefinitionPropertyValue(pred=None, val='my def', xrefs=[], meta=None), xrefs=[], synonyms=[], basicPropertyValues=None, deprecated=None)), Node(id='N:10', label='node 10', type=None, meta=Meta(subsets=[], version=None, comments=[], definition=DefinitionPropertyValue(pred=None, val='my def', xrefs=[], meta=None), xrefs=[], synonyms=[], basicPropertyValues=None, deprecated=None))]\n",
      "graph nodes = 99999\n",
      "graph  = [Node(id='N:1', label='node 1', type=None, meta=Meta(subsets=[], version=None, comments=[], definition=DefinitionPropertyValue(pred=None, val='my def', xrefs=[], meta=None), xrefs=[], synonyms=[], basicPropertyValues=None, deprecated=None)), Node(id='N:2', label='node 2', type=None, meta=Meta(subsets=[], version=None, comments=[], definition=DefinitionPropertyValue(pred=None, val='my def', xrefs=[], meta=None), xrefs=[], synonyms=[], basicPropertyValues=None, deprecated=None)), Node(id='N:3', label='node 3', type=None, meta=Meta(subsets=[], version=None, comments=[], definition=DefinitionPropertyValue(pred=None, val='my def', xrefs=[], meta=None), xrefs=[], synonyms=[], basicPropertyValues=None, deprecated=None)), Node(id='N:4', label='node 4', type=None, meta=Meta(subsets=[], version=None, comments=[], definition=DefinitionPropertyValue(pred=None, val='my def', xrefs=[], meta=None), xrefs=[], synonyms=[], basicPropertyValues=None, deprecated=None)), Node(id='N:5', label='node 5', type=None, meta=Meta(subsets=[], version=None, comments=[], definition=DefinitionPropertyValue(pred=None, val='my def', xrefs=[], meta=None), xrefs=[], synonyms=[], basicPropertyValues=None, deprecated=None)), Node(id='N:6', label='node 6', type=None, meta=Meta(subsets=[], version=None, comments=[], definition=DefinitionPropertyValue(pred=None, val='my def', xrefs=[], meta=None), xrefs=[], synonyms=[], basicPropertyValues=None, deprecated=None)), Node(id='N:7', label='node 7', type=None, meta=Meta(subsets=[], version=None, comments=[], definition=DefinitionPropertyValue(pred=None, val='my def', xrefs=[], meta=None), xrefs=[], synonyms=[], basicPropertyValues=None, deprecated=None)), Node(id='N:8', label='node 8', type=None, meta=Meta(subsets=[], version=None, comments=[], definition=DefinitionPropertyValue(pred=None, val='my def', xrefs=[], meta=None), xrefs=[], synonyms=[], basicPropertyValues=None, deprecated=None)), Node(id='N:9', label='node 9', type=None, meta=Meta(subsets=[], version=None, comments=[], definition=DefinitionPropertyValue(pred=None, val='my def', xrefs=[], meta=None), xrefs=[], synonyms=[], basicPropertyValues=None, deprecated=None)), Node(id='N:10', label='node 10', type=None, meta=Meta(subsets=[], version=None, comments=[], definition=DefinitionPropertyValue(pred=None, val='my def', xrefs=[], meta=None), xrefs=[], synonyms=[], basicPropertyValues=None, deprecated=None))]\n",
      "graph nodes = 999999\n"
     ]
    }
   ],
   "source": [
    "result = runner.multi_run(config)"
   ]
  },
  {
   "cell_type": "code",
   "execution_count": 12,
   "id": "06c28f36",
   "metadata": {},
   "outputs": [],
   "source": [
    "sv = package_schemaview('linkml_performance_test.model.benchconfig')"
   ]
  },
  {
   "cell_type": "code",
   "execution_count": 13,
   "id": "c38ca365",
   "metadata": {},
   "outputs": [],
   "source": [
    "csv_dumper.dump(result, index_slot='runs', schemaview=sv, to_file='results/results.tsv')"
   ]
  },
  {
   "cell_type": "code",
   "execution_count": 9,
   "id": "736ae2f1",
   "metadata": {},
   "outputs": [],
   "source": []
  },
  {
   "cell_type": "code",
   "execution_count": 10,
   "id": "5c81aabd",
   "metadata": {},
   "outputs": [
    {
     "ename": "NameError",
     "evalue": "name 'fdf' is not defined",
     "output_type": "error",
     "traceback": [
      "\u001b[0;31m---------------------------------------------------------------------------\u001b[0m",
      "\u001b[0;31mNameError\u001b[0m                                 Traceback (most recent call last)",
      "Input \u001b[0;32mIn [10]\u001b[0m, in \u001b[0;36m<cell line: 1>\u001b[0;34m()\u001b[0m\n\u001b[0;32m----> 1\u001b[0m \u001b[43mfdf\u001b[49m[\u001b[38;5;241m0\u001b[39m]\n",
      "\u001b[0;31mNameError\u001b[0m: name 'fdf' is not defined"
     ]
    }
   ],
   "source": [
    "fdf[0]"
   ]
  },
  {
   "cell_type": "code",
   "execution_count": null,
   "id": "e96ee192",
   "metadata": {},
   "outputs": [],
   "source": []
  }
 ],
 "metadata": {
  "kernelspec": {
   "display_name": "Python 3 (ipykernel)",
   "language": "python",
   "name": "python3"
  },
  "language_info": {
   "codemirror_mode": {
    "name": "ipython",
    "version": 3
   },
   "file_extension": ".py",
   "mimetype": "text/x-python",
   "name": "python",
   "nbconvert_exporter": "python",
   "pygments_lexer": "ipython3",
   "version": "3.9.5"
  }
 },
 "nbformat": 4,
 "nbformat_minor": 5
}
