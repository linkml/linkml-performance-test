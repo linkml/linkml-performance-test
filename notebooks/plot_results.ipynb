{
 "cells": [
  {
   "cell_type": "code",
   "execution_count": 1,
   "id": "2ea7e1c3",
   "metadata": {},
   "outputs": [],
   "source": [
    "import pandas as pd"
   ]
  },
  {
   "cell_type": "code",
   "execution_count": 26,
   "id": "7eee3ede",
   "metadata": {},
   "outputs": [
    {
     "data": {
      "text/html": [
       "<div>\n",
       "<style scoped>\n",
       "    .dataframe tbody tr th:only-of-type {\n",
       "        vertical-align: middle;\n",
       "    }\n",
       "\n",
       "    .dataframe tbody tr th {\n",
       "        vertical-align: top;\n",
       "    }\n",
       "\n",
       "    .dataframe thead th {\n",
       "        text-align: right;\n",
       "    }\n",
       "</style>\n",
       "<table border=\"1\" class=\"dataframe\">\n",
       "  <thead>\n",
       "    <tr style=\"text-align: right;\">\n",
       "      <th></th>\n",
       "      <th>entity_count</th>\n",
       "      <th>config_json</th>\n",
       "      <th>config_linkml_runtime_version</th>\n",
       "      <th>config_entity_counts</th>\n",
       "      <th>config_working_directory</th>\n",
       "      <th>create_object_event_duration</th>\n",
       "      <th>create_object_event_start</th>\n",
       "      <th>create_object_event_end</th>\n",
       "      <th>json_dump_event_duration</th>\n",
       "      <th>json_dump_event_start</th>\n",
       "      <th>...</th>\n",
       "      <th>plain_yaml_dump_event_end</th>\n",
       "      <th>plain_yaml_load_event_duration</th>\n",
       "      <th>plain_yaml_load_event_start</th>\n",
       "      <th>plain_yaml_load_event_end</th>\n",
       "      <th>plain_json_dump_event_duration</th>\n",
       "      <th>plain_json_dump_event_start</th>\n",
       "      <th>plain_json_dump_event_end</th>\n",
       "      <th>plain_json_load_event_duration</th>\n",
       "      <th>plain_json_load_event_start</th>\n",
       "      <th>plain_json_load_event_end</th>\n",
       "    </tr>\n",
       "  </thead>\n",
       "  <tbody>\n",
       "    <tr>\n",
       "      <th>0</th>\n",
       "      <td>100</td>\n",
       "      <td>{\\\"linkml_runtime_version\\\": \\\"1.2.2\\\", \\\"enti...</td>\n",
       "      <td>1.2.2</td>\n",
       "      <td>[100|1000|10000|100000]</td>\n",
       "      <td>tmp</td>\n",
       "      <td>0.006359</td>\n",
       "      <td>1.647826e+09</td>\n",
       "      <td>1.647826e+09</td>\n",
       "      <td>0.013762</td>\n",
       "      <td>1.647826e+09</td>\n",
       "      <td>...</td>\n",
       "      <td>1.647826e+09</td>\n",
       "      <td>0.203052</td>\n",
       "      <td>1.647826e+09</td>\n",
       "      <td>1.647826e+09</td>\n",
       "      <td>0.002714</td>\n",
       "      <td>1.647826e+09</td>\n",
       "      <td>1.647826e+09</td>\n",
       "      <td>0.000903</td>\n",
       "      <td>1.647826e+09</td>\n",
       "      <td>1.647826e+09</td>\n",
       "    </tr>\n",
       "    <tr>\n",
       "      <th>1</th>\n",
       "      <td>1000</td>\n",
       "      <td>{\\\"linkml_runtime_version\\\": \\\"1.2.2\\\", \\\"enti...</td>\n",
       "      <td>1.2.2</td>\n",
       "      <td>[100|1000|10000|100000]</td>\n",
       "      <td>tmp</td>\n",
       "      <td>0.043006</td>\n",
       "      <td>1.647826e+09</td>\n",
       "      <td>1.647826e+09</td>\n",
       "      <td>0.100385</td>\n",
       "      <td>1.647826e+09</td>\n",
       "      <td>...</td>\n",
       "      <td>1.647826e+09</td>\n",
       "      <td>2.100289</td>\n",
       "      <td>1.647826e+09</td>\n",
       "      <td>1.647826e+09</td>\n",
       "      <td>0.032016</td>\n",
       "      <td>1.647826e+09</td>\n",
       "      <td>1.647826e+09</td>\n",
       "      <td>0.004335</td>\n",
       "      <td>1.647826e+09</td>\n",
       "      <td>1.647826e+09</td>\n",
       "    </tr>\n",
       "    <tr>\n",
       "      <th>2</th>\n",
       "      <td>10000</td>\n",
       "      <td>{\\\"linkml_runtime_version\\\": \\\"1.2.2\\\", \\\"enti...</td>\n",
       "      <td>1.2.2</td>\n",
       "      <td>[100|1000|10000|100000]</td>\n",
       "      <td>tmp</td>\n",
       "      <td>0.511881</td>\n",
       "      <td>1.647826e+09</td>\n",
       "      <td>1.647826e+09</td>\n",
       "      <td>1.048754</td>\n",
       "      <td>1.647826e+09</td>\n",
       "      <td>...</td>\n",
       "      <td>1.647826e+09</td>\n",
       "      <td>21.915715</td>\n",
       "      <td>1.647826e+09</td>\n",
       "      <td>1.647826e+09</td>\n",
       "      <td>0.298024</td>\n",
       "      <td>1.647826e+09</td>\n",
       "      <td>1.647826e+09</td>\n",
       "      <td>0.036727</td>\n",
       "      <td>1.647826e+09</td>\n",
       "      <td>1.647826e+09</td>\n",
       "    </tr>\n",
       "    <tr>\n",
       "      <th>3</th>\n",
       "      <td>100000</td>\n",
       "      <td>{\\\"linkml_runtime_version\\\": \\\"1.2.2\\\", \\\"enti...</td>\n",
       "      <td>1.2.2</td>\n",
       "      <td>[100|1000|10000|100000]</td>\n",
       "      <td>tmp</td>\n",
       "      <td>4.973987</td>\n",
       "      <td>1.647826e+09</td>\n",
       "      <td>1.647826e+09</td>\n",
       "      <td>10.039482</td>\n",
       "      <td>1.647826e+09</td>\n",
       "      <td>...</td>\n",
       "      <td>1.647827e+09</td>\n",
       "      <td>211.838919</td>\n",
       "      <td>1.647827e+09</td>\n",
       "      <td>1.647827e+09</td>\n",
       "      <td>2.895067</td>\n",
       "      <td>1.647827e+09</td>\n",
       "      <td>1.647827e+09</td>\n",
       "      <td>0.440804</td>\n",
       "      <td>1.647827e+09</td>\n",
       "      <td>1.647827e+09</td>\n",
       "    </tr>\n",
       "  </tbody>\n",
       "</table>\n",
       "<p>4 rows × 41 columns</p>\n",
       "</div>"
      ],
      "text/plain": [
       "   entity_count                                        config_json  \\\n",
       "0           100  {\\\"linkml_runtime_version\\\": \\\"1.2.2\\\", \\\"enti...   \n",
       "1          1000  {\\\"linkml_runtime_version\\\": \\\"1.2.2\\\", \\\"enti...   \n",
       "2         10000  {\\\"linkml_runtime_version\\\": \\\"1.2.2\\\", \\\"enti...   \n",
       "3        100000  {\\\"linkml_runtime_version\\\": \\\"1.2.2\\\", \\\"enti...   \n",
       "\n",
       "  config_linkml_runtime_version     config_entity_counts  \\\n",
       "0                         1.2.2  [100|1000|10000|100000]   \n",
       "1                         1.2.2  [100|1000|10000|100000]   \n",
       "2                         1.2.2  [100|1000|10000|100000]   \n",
       "3                         1.2.2  [100|1000|10000|100000]   \n",
       "\n",
       "  config_working_directory  create_object_event_duration  \\\n",
       "0                      tmp                      0.006359   \n",
       "1                      tmp                      0.043006   \n",
       "2                      tmp                      0.511881   \n",
       "3                      tmp                      4.973987   \n",
       "\n",
       "   create_object_event_start  create_object_event_end  \\\n",
       "0               1.647826e+09             1.647826e+09   \n",
       "1               1.647826e+09             1.647826e+09   \n",
       "2               1.647826e+09             1.647826e+09   \n",
       "3               1.647826e+09             1.647826e+09   \n",
       "\n",
       "   json_dump_event_duration  json_dump_event_start  ...  \\\n",
       "0                  0.013762           1.647826e+09  ...   \n",
       "1                  0.100385           1.647826e+09  ...   \n",
       "2                  1.048754           1.647826e+09  ...   \n",
       "3                 10.039482           1.647826e+09  ...   \n",
       "\n",
       "   plain_yaml_dump_event_end  plain_yaml_load_event_duration  \\\n",
       "0               1.647826e+09                        0.203052   \n",
       "1               1.647826e+09                        2.100289   \n",
       "2               1.647826e+09                       21.915715   \n",
       "3               1.647827e+09                      211.838919   \n",
       "\n",
       "   plain_yaml_load_event_start  plain_yaml_load_event_end  \\\n",
       "0                 1.647826e+09               1.647826e+09   \n",
       "1                 1.647826e+09               1.647826e+09   \n",
       "2                 1.647826e+09               1.647826e+09   \n",
       "3                 1.647827e+09               1.647827e+09   \n",
       "\n",
       "   plain_json_dump_event_duration  plain_json_dump_event_start  \\\n",
       "0                        0.002714                 1.647826e+09   \n",
       "1                        0.032016                 1.647826e+09   \n",
       "2                        0.298024                 1.647826e+09   \n",
       "3                        2.895067                 1.647827e+09   \n",
       "\n",
       "   plain_json_dump_event_end  plain_json_load_event_duration  \\\n",
       "0               1.647826e+09                        0.000903   \n",
       "1               1.647826e+09                        0.004335   \n",
       "2               1.647826e+09                        0.036727   \n",
       "3               1.647827e+09                        0.440804   \n",
       "\n",
       "   plain_json_load_event_start  plain_json_load_event_end  \n",
       "0                 1.647826e+09               1.647826e+09  \n",
       "1                 1.647826e+09               1.647826e+09  \n",
       "2                 1.647826e+09               1.647826e+09  \n",
       "3                 1.647827e+09               1.647827e+09  \n",
       "\n",
       "[4 rows x 41 columns]"
      ]
     },
     "execution_count": 26,
     "metadata": {},
     "output_type": "execute_result"
    }
   ],
   "source": [
    "df = pd.read_csv('results/results.tsv', sep='\\t')\n",
    "df"
   ]
  },
  {
   "cell_type": "code",
   "execution_count": 65,
   "id": "d27900e2",
   "metadata": {},
   "outputs": [
    {
     "data": {
      "text/plain": [
       "0       100\n",
       "1      1000\n",
       "2     10000\n",
       "3    100000\n",
       "Name: entity_count, dtype: int64"
      ]
     },
     "execution_count": 65,
     "metadata": {},
     "output_type": "execute_result"
    }
   ],
   "source": [
    "df['entity_count']"
   ]
  },
  {
   "cell_type": "code",
   "execution_count": 27,
   "id": "b0fb4ef9",
   "metadata": {},
   "outputs": [
    {
     "data": {
      "text/plain": [
       "Index(['entity_count', 'config_json', 'config_linkml_runtime_version',\n",
       "       'config_entity_counts', 'config_working_directory',\n",
       "       'create_object_event_duration', 'create_object_event_start',\n",
       "       'create_object_event_end', 'json_dump_event_duration',\n",
       "       'json_dump_event_start', 'json_dump_event_end',\n",
       "       'json_load_event_duration', 'json_load_event_start',\n",
       "       'json_load_event_end', 'yaml_dump_event_duration',\n",
       "       'yaml_dump_event_start', 'yaml_dump_event_end',\n",
       "       'yaml_load_event_duration', 'yaml_load_event_start',\n",
       "       'yaml_load_event_end', 'rdf_dump_event_duration',\n",
       "       'rdf_dump_event_start', 'rdf_dump_event_end', 'rdf_load_event_duration',\n",
       "       'rdf_load_event_start', 'rdf_load_event_end', 'to_dict_event_duration',\n",
       "       'to_dict_event_start', 'to_dict_event_end',\n",
       "       'plain_yaml_dump_event_duration', 'plain_yaml_dump_event_start',\n",
       "       'plain_yaml_dump_event_end', 'plain_yaml_load_event_duration',\n",
       "       'plain_yaml_load_event_start', 'plain_yaml_load_event_end',\n",
       "       'plain_json_dump_event_duration', 'plain_json_dump_event_start',\n",
       "       'plain_json_dump_event_end', 'plain_json_load_event_duration',\n",
       "       'plain_json_load_event_start', 'plain_json_load_event_end'],\n",
       "      dtype='object')"
      ]
     },
     "execution_count": 27,
     "metadata": {},
     "output_type": "execute_result"
    }
   ],
   "source": [
    "df.columns"
   ]
  },
  {
   "cell_type": "code",
   "execution_count": 28,
   "id": "71bd7d14",
   "metadata": {},
   "outputs": [
    {
     "data": {
      "text/html": [
       "<div>\n",
       "<style scoped>\n",
       "    .dataframe tbody tr th:only-of-type {\n",
       "        vertical-align: middle;\n",
       "    }\n",
       "\n",
       "    .dataframe tbody tr th {\n",
       "        vertical-align: top;\n",
       "    }\n",
       "\n",
       "    .dataframe thead th {\n",
       "        text-align: right;\n",
       "    }\n",
       "</style>\n",
       "<table border=\"1\" class=\"dataframe\">\n",
       "  <thead>\n",
       "    <tr style=\"text-align: right;\">\n",
       "      <th></th>\n",
       "      <th>entity_count</th>\n",
       "      <th>plain_json_load_event_duration</th>\n",
       "      <th>plain_yaml_load_event_duration</th>\n",
       "      <th>json_load_event_duration</th>\n",
       "      <th>yaml_load_event_duration</th>\n",
       "      <th>rdf_load_event_duration</th>\n",
       "      <th>plain_json_dump_event_duration</th>\n",
       "      <th>plain_yaml_dump_event_duration</th>\n",
       "      <th>json_dump_event_duration</th>\n",
       "      <th>yaml_dump_event_duration</th>\n",
       "      <th>rdf_dump_event_duration</th>\n",
       "    </tr>\n",
       "  </thead>\n",
       "  <tbody>\n",
       "    <tr>\n",
       "      <th>0</th>\n",
       "      <td>100</td>\n",
       "      <td>0.000903</td>\n",
       "      <td>0.203052</td>\n",
       "      <td>0.009980</td>\n",
       "      <td>0.206674</td>\n",
       "      <td>0.235785</td>\n",
       "      <td>0.002714</td>\n",
       "      <td>0.084146</td>\n",
       "      <td>0.013762</td>\n",
       "      <td>0.107396</td>\n",
       "      <td>0.964509</td>\n",
       "    </tr>\n",
       "    <tr>\n",
       "      <th>1</th>\n",
       "      <td>1000</td>\n",
       "      <td>0.004335</td>\n",
       "      <td>2.100289</td>\n",
       "      <td>0.124702</td>\n",
       "      <td>2.518293</td>\n",
       "      <td>2.779522</td>\n",
       "      <td>0.032016</td>\n",
       "      <td>0.899264</td>\n",
       "      <td>0.100385</td>\n",
       "      <td>1.089753</td>\n",
       "      <td>5.532330</td>\n",
       "    </tr>\n",
       "    <tr>\n",
       "      <th>2</th>\n",
       "      <td>10000</td>\n",
       "      <td>0.036727</td>\n",
       "      <td>21.915715</td>\n",
       "      <td>0.993890</td>\n",
       "      <td>24.967974</td>\n",
       "      <td>24.554882</td>\n",
       "      <td>0.298024</td>\n",
       "      <td>10.807371</td>\n",
       "      <td>1.048754</td>\n",
       "      <td>12.868190</td>\n",
       "      <td>28.277866</td>\n",
       "    </tr>\n",
       "    <tr>\n",
       "      <th>3</th>\n",
       "      <td>100000</td>\n",
       "      <td>0.440804</td>\n",
       "      <td>211.838919</td>\n",
       "      <td>9.084904</td>\n",
       "      <td>219.988325</td>\n",
       "      <td>262.984380</td>\n",
       "      <td>2.895067</td>\n",
       "      <td>115.004372</td>\n",
       "      <td>10.039482</td>\n",
       "      <td>105.809481</td>\n",
       "      <td>298.892075</td>\n",
       "    </tr>\n",
       "  </tbody>\n",
       "</table>\n",
       "</div>"
      ],
      "text/plain": [
       "   entity_count  plain_json_load_event_duration  \\\n",
       "0           100                        0.000903   \n",
       "1          1000                        0.004335   \n",
       "2         10000                        0.036727   \n",
       "3        100000                        0.440804   \n",
       "\n",
       "   plain_yaml_load_event_duration  json_load_event_duration  \\\n",
       "0                        0.203052                  0.009980   \n",
       "1                        2.100289                  0.124702   \n",
       "2                       21.915715                  0.993890   \n",
       "3                      211.838919                  9.084904   \n",
       "\n",
       "   yaml_load_event_duration  rdf_load_event_duration  \\\n",
       "0                  0.206674                 0.235785   \n",
       "1                  2.518293                 2.779522   \n",
       "2                 24.967974                24.554882   \n",
       "3                219.988325               262.984380   \n",
       "\n",
       "   plain_json_dump_event_duration  plain_yaml_dump_event_duration  \\\n",
       "0                        0.002714                        0.084146   \n",
       "1                        0.032016                        0.899264   \n",
       "2                        0.298024                       10.807371   \n",
       "3                        2.895067                      115.004372   \n",
       "\n",
       "   json_dump_event_duration  yaml_dump_event_duration  rdf_dump_event_duration  \n",
       "0                  0.013762                  0.107396                 0.964509  \n",
       "1                  0.100385                  1.089753                 5.532330  \n",
       "2                  1.048754                 12.868190                28.277866  \n",
       "3                 10.039482                105.809481               298.892075  "
      ]
     },
     "execution_count": 28,
     "metadata": {},
     "output_type": "execute_result"
    }
   ],
   "source": [
    "event_types = ['plain_json', 'plain_yaml', 'json', 'yaml', 'rdf']\n",
    "\n",
    "load_duration_cols = [f'{x}_load_event_duration' for x in event_types]\n",
    "dump_duration_cols = [f'{x}_dump_event_duration' for x in event_types]\n",
    "fdf = df[['entity_count'] + load_duration_cols + dump_duration_cols]\n",
    "fdf"
   ]
  },
  {
   "cell_type": "code",
   "execution_count": 29,
   "id": "d9e92a00",
   "metadata": {},
   "outputs": [],
   "source": [
    "import seaborn as sns\n",
    "import matplotlib.pyplot as plt"
   ]
  },
  {
   "cell_type": "code",
   "execution_count": 30,
   "id": "d310cd56",
   "metadata": {},
   "outputs": [
    {
     "data": {
      "text/plain": [
       "entity_count                      100.000000\n",
       "plain_json_load_event_duration      0.000903\n",
       "plain_yaml_load_event_duration      0.203052\n",
       "json_load_event_duration            0.009980\n",
       "yaml_load_event_duration            0.206674\n",
       "rdf_load_event_duration             0.235785\n",
       "plain_json_dump_event_duration      0.002714\n",
       "plain_yaml_dump_event_duration      0.084146\n",
       "json_dump_event_duration            0.013762\n",
       "yaml_dump_event_duration            0.107396\n",
       "rdf_dump_event_duration             0.964509\n",
       "Name: 0, dtype: float64"
      ]
     },
     "execution_count": 30,
     "metadata": {},
     "output_type": "execute_result"
    }
   ],
   "source": [
    "fdf.iloc[0]"
   ]
  },
  {
   "cell_type": "code",
   "execution_count": 31,
   "id": "3ce4e311",
   "metadata": {
    "scrolled": true
   },
   "outputs": [
    {
     "data": {
      "text/plain": [
       "<AxesSubplot:>"
      ]
     },
     "execution_count": 31,
     "metadata": {},
     "output_type": "execute_result"
    },
    {
     "data": {
      "image/png": "[encoded data removed]",
      "text/plain": [
       "<Figure size 432x288 with 1 Axes>"
      ]
     },
     "metadata": {
      "needs_background": "light"
     },
     "output_type": "display_data"
    }
   ],
   "source": [
    "fdf.drop(columns='entity_count').T[0].plot.bar()"
   ]
  },
  {
   "cell_type": "code",
   "execution_count": 54,
   "id": "95efd4d3",
   "metadata": {},
   "outputs": [],
   "source": [
    "fdf = fdf.drop(columns='entity_count')"
   ]
  },
  {
   "cell_type": "code",
   "execution_count": 55,
   "id": "cd525cca",
   "metadata": {},
   "outputs": [],
   "source": [
    "def mkhist(from_df, row):\n",
    "    from_df.T[row].plot.bar()"
   ]
  },
  {
   "cell_type": "code",
   "execution_count": 56,
   "id": "b75ba48e",
   "metadata": {},
   "outputs": [
    {
     "data": {
      "image/png": "[encoded data removed]",
      "text/plain": [
       "<Figure size 432x288 with 1 Axes>"
      ]
     },
     "metadata": {
      "needs_background": "light"
     },
     "output_type": "display_data"
    }
   ],
   "source": [
    "mkhist(fdf, 0)"
   ]
  },
  {
   "cell_type": "code",
   "execution_count": 57,
   "id": "15764584",
   "metadata": {},
   "outputs": [
    {
     "data": {
      "image/png": "[encoded data removed]",
      "text/plain": [
       "<Figure size 432x288 with 1 Axes>"
      ]
     },
     "metadata": {
      "needs_background": "light"
     },
     "output_type": "display_data"
    }
   ],
   "source": [
    "mkhist(fdf, 1)"
   ]
  },
  {
   "cell_type": "code",
   "execution_count": 58,
   "id": "08ee3d9c",
   "metadata": {},
   "outputs": [
    {
     "data": {
      "image/png": "[encoded data removed]",
      "text/plain": [
       "<Figure size 432x288 with 1 Axes>"
      ]
     },
     "metadata": {
      "needs_background": "light"
     },
     "output_type": "display_data"
    }
   ],
   "source": [
    "mkhist(fdf, 2)"
   ]
  },
  {
   "cell_type": "code",
   "execution_count": 59,
   "id": "72eb711c",
   "metadata": {},
   "outputs": [
    {
     "data": {
      "image/png": "[encoded data removed]",
      "text/plain": [
       "<Figure size 432x288 with 1 Axes>"
      ]
     },
     "metadata": {
      "needs_background": "light"
     },
     "output_type": "display_data"
    }
   ],
   "source": [
    "mkhist(fdf, 3)"
   ]
  },
  {
   "cell_type": "code",
   "execution_count": 60,
   "id": "191f09a1",
   "metadata": {},
   "outputs": [
    {
     "data": {
      "text/html": [
       "<div>\n",
       "<style scoped>\n",
       "    .dataframe tbody tr th:only-of-type {\n",
       "        vertical-align: middle;\n",
       "    }\n",
       "\n",
       "    .dataframe tbody tr th {\n",
       "        vertical-align: top;\n",
       "    }\n",
       "\n",
       "    .dataframe thead th {\n",
       "        text-align: right;\n",
       "    }\n",
       "</style>\n",
       "<table border=\"1\" class=\"dataframe\">\n",
       "  <thead>\n",
       "    <tr style=\"text-align: right;\">\n",
       "      <th></th>\n",
       "      <th>plain_json_load_event_duration</th>\n",
       "      <th>json_load_event_duration</th>\n",
       "      <th>plain_json_dump_event_duration</th>\n",
       "      <th>json_dump_event_duration</th>\n",
       "    </tr>\n",
       "  </thead>\n",
       "  <tbody>\n",
       "    <tr>\n",
       "      <th>0</th>\n",
       "      <td>0.000903</td>\n",
       "      <td>0.009980</td>\n",
       "      <td>0.002714</td>\n",
       "      <td>0.013762</td>\n",
       "    </tr>\n",
       "    <tr>\n",
       "      <th>1</th>\n",
       "      <td>0.004335</td>\n",
       "      <td>0.124702</td>\n",
       "      <td>0.032016</td>\n",
       "      <td>0.100385</td>\n",
       "    </tr>\n",
       "    <tr>\n",
       "      <th>2</th>\n",
       "      <td>0.036727</td>\n",
       "      <td>0.993890</td>\n",
       "      <td>0.298024</td>\n",
       "      <td>1.048754</td>\n",
       "    </tr>\n",
       "    <tr>\n",
       "      <th>3</th>\n",
       "      <td>0.440804</td>\n",
       "      <td>9.084904</td>\n",
       "      <td>2.895067</td>\n",
       "      <td>10.039482</td>\n",
       "    </tr>\n",
       "  </tbody>\n",
       "</table>\n",
       "</div>"
      ],
      "text/plain": [
       "   plain_json_load_event_duration  json_load_event_duration  \\\n",
       "0                        0.000903                  0.009980   \n",
       "1                        0.004335                  0.124702   \n",
       "2                        0.036727                  0.993890   \n",
       "3                        0.440804                  9.084904   \n",
       "\n",
       "   plain_json_dump_event_duration  json_dump_event_duration  \n",
       "0                        0.002714                  0.013762  \n",
       "1                        0.032016                  0.100385  \n",
       "2                        0.298024                  1.048754  \n",
       "3                        2.895067                 10.039482  "
      ]
     },
     "execution_count": 60,
     "metadata": {},
     "output_type": "execute_result"
    }
   ],
   "source": [
    "jsondf = fdf[['plain_json_load_event_duration', 'json_load_event_duration', 'plain_json_dump_event_duration', 'json_dump_event_duration']]\n",
    "jsondf"
   ]
  },
  {
   "cell_type": "code",
   "execution_count": 61,
   "id": "b00b558a",
   "metadata": {},
   "outputs": [
    {
     "data": {
      "image/png": "[encoded data removed]",
      "text/plain": [
       "<Figure size 432x288 with 1 Axes>"
      ]
     },
     "metadata": {
      "needs_background": "light"
     },
     "output_type": "display_data"
    }
   ],
   "source": [
    "mkhist(jsondf, 0)"
   ]
  },
  {
   "cell_type": "code",
   "execution_count": 62,
   "id": "1c4c64d5",
   "metadata": {},
   "outputs": [
    {
     "data": {
      "image/png": "[encoded data removed]",
      "text/plain": [
       "<Figure size 432x288 with 1 Axes>"
      ]
     },
     "metadata": {
      "needs_background": "light"
     },
     "output_type": "display_data"
    }
   ],
   "source": [
    "mkhist(jsondf, 1)"
   ]
  },
  {
   "cell_type": "code",
   "execution_count": 63,
   "id": "4cda887e",
   "metadata": {},
   "outputs": [
    {
     "data": {
      "image/png": "[encoded data removed]",
      "text/plain": [
       "<Figure size 432x288 with 1 Axes>"
      ]
     },
     "metadata": {
      "needs_background": "light"
     },
     "output_type": "display_data"
    }
   ],
   "source": [
    "mkhist(jsondf, 2)"
   ]
  },
  {
   "cell_type": "code",
   "execution_count": 64,
   "id": "6ef5af71",
   "metadata": {},
   "outputs": [
    {
     "data": {
      "image/png": "[encoded data removed]",
      "text/plain": [
       "<Figure size 432x288 with 1 Axes>"
      ]
     },
     "metadata": {
      "needs_background": "light"
     },
     "output_type": "display_data"
    }
   ],
   "source": [
    "mkhist(jsondf, 3)   ## 100k nodes in graph"
   ]
  },
  {
   "cell_type": "code",
   "execution_count": 40,
   "id": "4c9312ad",
   "metadata": {},
   "outputs": [
    {
     "data": {
      "text/plain": [
       "array([9.03129578e-04, 2.03052044e-01, 9.98020172e-03, 2.06673861e-01,\n",
       "       2.35785246e-01, 2.71415710e-03, 8.41460228e-02, 1.37619972e-02,\n",
       "       1.07396126e-01, 9.64509010e-01])"
      ]
     },
     "execution_count": 40,
     "metadata": {},
     "output_type": "execute_result"
    }
   ],
   "source": [
    "s.values"
   ]
  },
  {
   "cell_type": "code",
   "execution_count": 45,
   "id": "dc3d8f00",
   "metadata": {},
   "outputs": [
    {
     "data": {
      "text/plain": [
       "<AxesSubplot:>"
      ]
     },
     "execution_count": 45,
     "metadata": {},
     "output_type": "execute_result"
    },
    {
     "data": {
      "image/png": "[encoded data removed]",
      "text/plain": [
       "<Figure size 432x288 with 1 Axes>"
      ]
     },
     "metadata": {
      "needs_background": "light"
     },
     "output_type": "display_data"
    }
   ],
   "source": [
    "sns.barplot(x=s.index, y=s.values)"
   ]
  },
  {
   "cell_type": "code",
   "execution_count": null,
   "id": "2f46cc28",
   "metadata": {},
   "outputs": [],
   "source": []
  }
 ],
 "metadata": {
  "kernelspec": {
   "display_name": "Python 3 (ipykernel)",
   "language": "python",
   "name": "python3"
  },
  "language_info": {
   "codemirror_mode": {
    "name": "ipython",
    "version": 3
   },
   "file_extension": ".py",
   "mimetype": "text/x-python",
   "name": "python",
   "nbconvert_exporter": "python",
   "pygments_lexer": "ipython3",
   "version": "3.9.5"
  }
 },
 "nbformat": 4,
 "nbformat_minor": 5
}
